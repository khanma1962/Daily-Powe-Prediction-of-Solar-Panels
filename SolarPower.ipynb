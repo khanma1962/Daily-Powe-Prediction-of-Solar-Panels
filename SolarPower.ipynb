{
 "cells": [
  {
   "cell_type": "markdown",
   "metadata": {},
   "source": [
    "# Solar Power Generation Data"
   ]
  },
  {
   "cell_type": "markdown",
   "metadata": {},
   "source": [
    "### Tutorial for time series analysis\n",
    "https://machinelearningmastery.com/how-to-develop-convolutional-neural-network-models-for-time-series-forecasting/\n",
    "\n",
    "### Data taken from \n",
    "https://www.kaggle.com/fvcoppen/solarpanelspower\n",
    "\n",
    "### Kernel followed\n",
    "https://www.kaggle.com/fvcoppen/101-univariate-and-cnn-model-on-daily-solar-power\n"
   ]
  },
  {
   "cell_type": "markdown",
   "metadata": {},
   "source": [
    "# Business question to be asked.\n",
    "1 - Given the data predict the solar power for the next year.\n",
    "2 - Does seasonality - such as winter, summer, spring, etc. - plays a role in power generated per day?\n",
    "3 - Is there a variation during different time of the day (morning, noon, evening)?\n",
    "4 - Considering the dollar per watts charged by utility company, how much one can save in on month/one year?\n",
    "5 - If total cost of installation is 25K for 5KW system, how long will it take to pay off the cost of system?\n",
    "\n"
   ]
  },
  {
   "cell_type": "markdown",
   "metadata": {},
   "source": [
    "The file PVElecGas2.csv is ';' separated and has 4 columns: \n",
    " - Date, \n",
    " - Cumulative solar power, \n",
    " - used kWh electricity, \n",
    " - used Gas m²\n"
   ]
  },
  {
   "cell_type": "code",
   "execution_count": null,
   "metadata": {},
   "outputs": [],
   "source": []
  },
  {
   "cell_type": "code",
   "execution_count": 1,
   "metadata": {},
   "outputs": [],
   "source": [
    "import pandas as pd\n",
    "import numpy as np\n",
    "import matplotlib.pyplot as plt\n",
    "import seaborn as sns\n",
    "import datetime\n",
    "from sklearn.metrics import r2_score\n",
    "from sklearn.metrics import mean_absolute_error\n",
    "\n",
    "from tensorflow.keras.models import Sequential\n",
    "from tensorflow.keras.layers import Dense\n",
    "import tensorflow as tf\n",
    "import keras as K\n"
   ]
  },
  {
   "cell_type": "code",
   "execution_count": 2,
   "metadata": {},
   "outputs": [
    {
     "name": "stdout",
     "output_type": "stream",
     "text": [
      "tf version 2.3.0\n",
      "keras version 2.4.3\n"
     ]
    }
   ],
   "source": [
    "print('tf version', tf.__version__)\n",
    "print('keras version', K.__version__)"
   ]
  },
  {
   "cell_type": "markdown",
   "metadata": {},
   "source": [
    "## Read the files"
   ]
  },
  {
   "cell_type": "code",
   "execution_count": 3,
   "metadata": {},
   "outputs": [],
   "source": [
    "\n",
    "\n",
    "from pathlib import Path\n",
    "file_dir = Path('/Users/khan_m_a/Google Drive/Data_Science/Kaggle/Solar Power/data')\n",
    "\n",
    "solarpower = pd.read_csv(file_dir / 'PV_Elec_Gas2.csv', \n",
    "                         names = ['Date', 'cum_solar_power', 'ele_kw', 'gas_mxm'],\n",
    "                        skiprows = 1,\n",
    "                        parse_dates = { 'dt': ['Date']},\n",
    "                        index_col = 'dt')\n"
   ]
  },
  {
   "cell_type": "code",
   "execution_count": 4,
   "metadata": {},
   "outputs": [
    {
     "data": {
      "text/html": [
       "<div>\n",
       "<style scoped>\n",
       "    .dataframe tbody tr th:only-of-type {\n",
       "        vertical-align: middle;\n",
       "    }\n",
       "\n",
       "    .dataframe tbody tr th {\n",
       "        vertical-align: top;\n",
       "    }\n",
       "\n",
       "    .dataframe thead th {\n",
       "        text-align: right;\n",
       "    }\n",
       "</style>\n",
       "<table border=\"1\" class=\"dataframe\">\n",
       "  <thead>\n",
       "    <tr style=\"text-align: right;\">\n",
       "      <th></th>\n",
       "      <th>cum_solar_power</th>\n",
       "      <th>ele_kw</th>\n",
       "      <th>gas_mxm</th>\n",
       "    </tr>\n",
       "    <tr>\n",
       "      <th>dt</th>\n",
       "      <th></th>\n",
       "      <th></th>\n",
       "      <th></th>\n",
       "    </tr>\n",
       "  </thead>\n",
       "  <tbody>\n",
       "    <tr>\n",
       "      <th>2011-10-26</th>\n",
       "      <td>0.1</td>\n",
       "      <td>15.1</td>\n",
       "      <td>9.0</td>\n",
       "    </tr>\n",
       "    <tr>\n",
       "      <th>2011-10-27</th>\n",
       "      <td>10.2</td>\n",
       "      <td>7.4</td>\n",
       "      <td>9.2</td>\n",
       "    </tr>\n",
       "    <tr>\n",
       "      <th>2011-10-28</th>\n",
       "      <td>20.2</td>\n",
       "      <td>5.8</td>\n",
       "      <td>8.0</td>\n",
       "    </tr>\n",
       "    <tr>\n",
       "      <th>2011-10-29</th>\n",
       "      <td>29.6</td>\n",
       "      <td>4.9</td>\n",
       "      <td>6.6</td>\n",
       "    </tr>\n",
       "    <tr>\n",
       "      <th>2011-10-30</th>\n",
       "      <td>34.2</td>\n",
       "      <td>11.7</td>\n",
       "      <td>5.3</td>\n",
       "    </tr>\n",
       "  </tbody>\n",
       "</table>\n",
       "</div>"
      ],
      "text/plain": [
       "            cum_solar_power  ele_kw  gas_mxm\n",
       "dt                                          \n",
       "2011-10-26              0.1    15.1      9.0\n",
       "2011-10-27             10.2     7.4      9.2\n",
       "2011-10-28             20.2     5.8      8.0\n",
       "2011-10-29             29.6     4.9      6.6\n",
       "2011-10-30             34.2    11.7      5.3"
      ]
     },
     "execution_count": 4,
     "metadata": {},
     "output_type": "execute_result"
    }
   ],
   "source": [
    "solarpower.head()"
   ]
  },
  {
   "cell_type": "code",
   "execution_count": 5,
   "metadata": {},
   "outputs": [
    {
     "name": "stdout",
     "output_type": "stream",
     "text": [
      "<class 'pandas.core.frame.DataFrame'>\n",
      "DatetimeIndex: 2948 entries, 2011-10-26 to 2019-11-20\n",
      "Data columns (total 3 columns):\n",
      " #   Column           Non-Null Count  Dtype  \n",
      "---  ------           --------------  -----  \n",
      " 0   cum_solar_power  2948 non-null   float64\n",
      " 1   ele_kw           2948 non-null   float64\n",
      " 2   gas_mxm          2948 non-null   float64\n",
      "dtypes: float64(3)\n",
      "memory usage: 92.1 KB\n"
     ]
    },
    {
     "data": {
      "text/plain": [
       "(None, (2948, 3))"
      ]
     },
     "execution_count": 5,
     "metadata": {},
     "output_type": "execute_result"
    }
   ],
   "source": [
    "solarpower.info(), solarpower.shape"
   ]
  },
  {
   "cell_type": "code",
   "execution_count": null,
   "metadata": {},
   "outputs": [],
   "source": []
  },
  {
   "cell_type": "markdown",
   "metadata": {},
   "source": [
    "### Data Cleaning"
   ]
  },
  {
   "cell_type": "markdown",
   "metadata": {},
   "source": [
    "##### since the second column is cumulative solar power, we need to convert into daily solar power"
   ]
  },
  {
   "cell_type": "code",
   "execution_count": 6,
   "metadata": {},
   "outputs": [],
   "source": [
    "# testing shift command\n",
    "\n",
    "small_sp = solarpower[: '2011-10-31'].copy()\n",
    "small_sp_shift =  small_sp.shift(periods =1, axis=0, freq = 'D')"
   ]
  },
  {
   "cell_type": "code",
   "execution_count": 7,
   "metadata": {},
   "outputs": [
    {
     "data": {
      "text/plain": [
       "(            cum_solar_power  ele_kw  gas_mxm\n",
       " dt                                          \n",
       " 2011-10-26              0.1    15.1      9.0\n",
       " 2011-10-27             10.2     7.4      9.2\n",
       " 2011-10-28             20.2     5.8      8.0\n",
       " 2011-10-29             29.6     4.9      6.6\n",
       " 2011-10-30             34.2    11.7      5.3,\n",
       "             cum_solar_power  ele_kw  gas_mxm\n",
       " dt                                          \n",
       " 2011-10-27              0.1    15.1      9.0\n",
       " 2011-10-28             10.2     7.4      9.2\n",
       " 2011-10-29             20.2     5.8      8.0\n",
       " 2011-10-30             29.6     4.9      6.6\n",
       " 2011-10-31             34.2    11.7      5.3)"
      ]
     },
     "execution_count": 7,
     "metadata": {},
     "output_type": "execute_result"
    }
   ],
   "source": [
    "small_sp.head(), small_sp_shift.head()"
   ]
  },
  {
   "cell_type": "code",
   "execution_count": 8,
   "metadata": {},
   "outputs": [
    {
     "data": {
      "text/html": [
       "<div>\n",
       "<style scoped>\n",
       "    .dataframe tbody tr th:only-of-type {\n",
       "        vertical-align: middle;\n",
       "    }\n",
       "\n",
       "    .dataframe tbody tr th {\n",
       "        vertical-align: top;\n",
       "    }\n",
       "\n",
       "    .dataframe thead th {\n",
       "        text-align: right;\n",
       "    }\n",
       "</style>\n",
       "<table border=\"1\" class=\"dataframe\">\n",
       "  <thead>\n",
       "    <tr style=\"text-align: right;\">\n",
       "      <th></th>\n",
       "      <th>ele_kw</th>\n",
       "      <th>gas_mxm</th>\n",
       "      <th>day_solar_power</th>\n",
       "    </tr>\n",
       "    <tr>\n",
       "      <th>dt</th>\n",
       "      <th></th>\n",
       "      <th></th>\n",
       "      <th></th>\n",
       "    </tr>\n",
       "  </thead>\n",
       "  <tbody>\n",
       "    <tr>\n",
       "      <th>2011-10-26</th>\n",
       "      <td>15.1</td>\n",
       "      <td>9.0</td>\n",
       "      <td>NaN</td>\n",
       "    </tr>\n",
       "    <tr>\n",
       "      <th>2011-10-27</th>\n",
       "      <td>7.4</td>\n",
       "      <td>9.2</td>\n",
       "      <td>10.1</td>\n",
       "    </tr>\n",
       "    <tr>\n",
       "      <th>2011-10-28</th>\n",
       "      <td>5.8</td>\n",
       "      <td>8.0</td>\n",
       "      <td>10.0</td>\n",
       "    </tr>\n",
       "    <tr>\n",
       "      <th>2011-10-29</th>\n",
       "      <td>4.9</td>\n",
       "      <td>6.6</td>\n",
       "      <td>9.4</td>\n",
       "    </tr>\n",
       "    <tr>\n",
       "      <th>2011-10-30</th>\n",
       "      <td>11.7</td>\n",
       "      <td>5.3</td>\n",
       "      <td>4.6</td>\n",
       "    </tr>\n",
       "    <tr>\n",
       "      <th>2011-10-31</th>\n",
       "      <td>11.0</td>\n",
       "      <td>5.7</td>\n",
       "      <td>3.8</td>\n",
       "    </tr>\n",
       "  </tbody>\n",
       "</table>\n",
       "</div>"
      ],
      "text/plain": [
       "            ele_kw  gas_mxm  day_solar_power\n",
       "dt                                          \n",
       "2011-10-26    15.1      9.0              NaN\n",
       "2011-10-27     7.4      9.2             10.1\n",
       "2011-10-28     5.8      8.0             10.0\n",
       "2011-10-29     4.9      6.6              9.4\n",
       "2011-10-30    11.7      5.3              4.6\n",
       "2011-10-31    11.0      5.7              3.8"
      ]
     },
     "execution_count": 8,
     "metadata": {},
     "output_type": "execute_result"
    }
   ],
   "source": [
    "small_sp['cum_p_shift'] = small_sp_shift['cum_solar_power']\n",
    "small_sp['day_solar_power'] = small_sp['cum_solar_power'].values - small_sp['cum_p_shift'].values\n",
    "del small_sp['cum_solar_power'], small_sp['cum_p_shift']\n",
    "small_sp"
   ]
  },
  {
   "cell_type": "code",
   "execution_count": null,
   "metadata": {},
   "outputs": [],
   "source": []
  },
  {
   "cell_type": "code",
   "execution_count": 9,
   "metadata": {},
   "outputs": [],
   "source": [
    "solarpower_temp = solarpower.shift(periods =1, axis=0, freq='D')\n",
    "solarpower['cum_p_shift'] = solarpower_temp['cum_solar_power']\n",
    "solarpower['day_solar_power'] = solarpower['cum_solar_power'] - solarpower['cum_p_shift']\n",
    "solarpower.dropna(axis=0, inplace = True)"
   ]
  },
  {
   "cell_type": "code",
   "execution_count": 10,
   "metadata": {},
   "outputs": [
    {
     "data": {
      "text/plain": [
       "(            cum_solar_power  ele_kw  gas_mxm  cum_p_shift  day_solar_power\n",
       " dt                                                                        \n",
       " 2011-10-27             10.2     7.4      9.2          0.1             10.1\n",
       " 2011-10-28             20.2     5.8      8.0         10.2             10.0\n",
       " 2011-10-29             29.6     4.9      6.6         20.2              9.4,\n",
       "             cum_solar_power  ele_kw  gas_mxm  cum_p_shift  day_solar_power\n",
       " dt                                                                        \n",
       " 2019-11-18          32238.0    13.0     14.0      32235.0              3.0\n",
       " 2019-11-19          32238.0    13.0     15.0      32238.0              0.0\n",
       " 2019-11-20          32244.0     9.0     16.0      32238.0              6.0)"
      ]
     },
     "execution_count": 10,
     "metadata": {},
     "output_type": "execute_result"
    }
   ],
   "source": [
    "solarpower.head(3), solarpower.tail(3)"
   ]
  },
  {
   "cell_type": "code",
   "execution_count": 11,
   "metadata": {},
   "outputs": [],
   "source": [
    "\n",
    "solarpower.drop(['cum_p_shift', 'cum_solar_power'], \n",
    "                             axis=1, inplace = True)"
   ]
  },
  {
   "cell_type": "code",
   "execution_count": 12,
   "metadata": {},
   "outputs": [
    {
     "data": {
      "text/plain": [
       "(            ele_kw  gas_mxm  day_solar_power\n",
       " dt                                          \n",
       " 2011-10-27     7.4      9.2             10.1\n",
       " 2011-10-28     5.8      8.0             10.0\n",
       " 2011-10-29     4.9      6.6              9.4\n",
       " 2011-10-30    11.7      5.3              4.6\n",
       " 2011-10-31    11.0      5.7              3.8,\n",
       "             ele_kw  gas_mxm  day_solar_power\n",
       " dt                                          \n",
       " 2019-11-16    12.0     15.0              2.0\n",
       " 2019-11-17    13.0     14.0              4.0\n",
       " 2019-11-18    13.0     14.0              3.0\n",
       " 2019-11-19    13.0     15.0              0.0\n",
       " 2019-11-20     9.0     16.0              6.0)"
      ]
     },
     "execution_count": 12,
     "metadata": {},
     "output_type": "execute_result"
    }
   ],
   "source": [
    "solarpower.head(), solarpower.tail()"
   ]
  },
  {
   "cell_type": "code",
   "execution_count": null,
   "metadata": {},
   "outputs": [],
   "source": []
  },
  {
   "cell_type": "markdown",
   "metadata": {},
   "source": [
    "### EDA"
   ]
  },
  {
   "cell_type": "code",
   "execution_count": 13,
   "metadata": {},
   "outputs": [
    {
     "data": {
      "text/plain": [
       "array([<matplotlib.axes._subplots.AxesSubplot object at 0x7fdb5e37db10>,\n",
       "       <matplotlib.axes._subplots.AxesSubplot object at 0x7fdb5e412e50>,\n",
       "       <matplotlib.axes._subplots.AxesSubplot object at 0x7fdb5e44d990>],\n",
       "      dtype=object)"
      ]
     },
     "execution_count": 13,
     "metadata": {},
     "output_type": "execute_result"
    },
    {
     "data": {
      "image/png": "[encoded data removed]",
      "text/plain": [
       "<Figure size 432x288 with 3 Axes>"
      ]
     },
     "metadata": {
      "needs_background": "light"
     },
     "output_type": "display_data"
    }
   ],
   "source": [
    "solarpower.plot(subplots = True)"
   ]
  },
  {
   "cell_type": "code",
   "execution_count": 14,
   "metadata": {},
   "outputs": [
    {
     "data": {
      "image/png": "[encoded data removed]",
      "text/plain": [
       "<Figure size 432x288 with 1 Axes>"
      ]
     },
     "metadata": {
      "needs_background": "light"
     },
     "output_type": "display_data"
    }
   ],
   "source": [
    "fig, ax = plt.subplots()\n",
    "ax.plot('day_solar_power', data = solarpower)\n",
    "# plt.xlim(datetime.date(2012,1,1),datetime.date(2013,1,1) )\n",
    "plt.show()"
   ]
  },
  {
   "cell_type": "code",
   "execution_count": 15,
   "metadata": {},
   "outputs": [
    {
     "data": {
      "image/png": "[encoded data removed]",
      "text/plain": [
       "<Figure size 432x288 with 1 Axes>"
      ]
     },
     "metadata": {
      "needs_background": "light"
     },
     "output_type": "display_data"
    }
   ],
   "source": [
    "fig, ax = plt.subplots()\n",
    "ax.plot('day_solar_power', data = solarpower)\n",
    "plt.xlim(datetime.date(2012,1,1),datetime.date(2013,1,1) )\n",
    "plt.show()"
   ]
  },
  {
   "cell_type": "markdown",
   "metadata": {},
   "source": [
    "As we clearly see there is a seasonality in data. During summer, the solar output is higher than winter months."
   ]
  },
  {
   "cell_type": "code",
   "execution_count": null,
   "metadata": {},
   "outputs": [],
   "source": []
  },
  {
   "cell_type": "markdown",
   "metadata": {},
   "source": [
    "### Split the data, leaving last 365 days for validation\n"
   ]
  },
  {
   "cell_type": "code",
   "execution_count": 16,
   "metadata": {},
   "outputs": [
    {
     "data": {
      "text/plain": [
       "(            ele_kw  gas_mxm  day_solar_power\n",
       " dt                                          \n",
       " 2011-10-27     7.4      9.2             10.1\n",
       " 2011-10-28     5.8      8.0             10.0\n",
       " 2011-10-29     4.9      6.6              9.4\n",
       " 2011-10-30    11.7      5.3              4.6\n",
       " 2011-10-31    11.0      5.7              3.8,\n",
       "             ele_kw  gas_mxm  day_solar_power\n",
       " dt                                          \n",
       " 2019-11-16    12.0     15.0              2.0\n",
       " 2019-11-17    13.0     14.0              4.0\n",
       " 2019-11-18    13.0     14.0              3.0\n",
       " 2019-11-19    13.0     15.0              0.0\n",
       " 2019-11-20     9.0     16.0              6.0,\n",
       " (2947, 3))"
      ]
     },
     "execution_count": 16,
     "metadata": {},
     "output_type": "execute_result"
    }
   ],
   "source": [
    "solarpower.head(), solarpower.tail(), solarpower.shape"
   ]
  },
  {
   "cell_type": "code",
   "execution_count": null,
   "metadata": {},
   "outputs": [],
   "source": []
  },
  {
   "cell_type": "code",
   "execution_count": 17,
   "metadata": {},
   "outputs": [
    {
     "data": {
      "text/plain": [
       "((2582, 3), (365, 3))"
      ]
     },
     "execution_count": 17,
     "metadata": {},
     "output_type": "execute_result"
    }
   ],
   "source": [
    "# split and normalize data\n",
    "\n",
    "train = solarpower[: '2018-11-20']\n",
    "valid = solarpower[ '2018-11-21': '2019-11-20'] # last 365 days\n",
    "\n",
    "train.shape, valid.shape"
   ]
  },
  {
   "cell_type": "code",
   "execution_count": null,
   "metadata": {},
   "outputs": [],
   "source": []
  },
  {
   "cell_type": "code",
   "execution_count": null,
   "metadata": {},
   "outputs": [],
   "source": []
  },
  {
   "cell_type": "code",
   "execution_count": null,
   "metadata": {},
   "outputs": [],
   "source": []
  },
  {
   "cell_type": "code",
   "execution_count": null,
   "metadata": {},
   "outputs": [],
   "source": []
  },
  {
   "cell_type": "code",
   "execution_count": 18,
   "metadata": {},
   "outputs": [],
   "source": [
    "## do we need to store anything check again predictions?"
   ]
  },
  {
   "cell_type": "code",
   "execution_count": null,
   "metadata": {},
   "outputs": [],
   "source": []
  },
  {
   "cell_type": "markdown",
   "metadata": {},
   "source": [
    "### Date Preparation"
   ]
  },
  {
   "cell_type": "code",
   "execution_count": 19,
   "metadata": {},
   "outputs": [],
   "source": [
    "# concept taken from here\n",
    "# https://machinelearningmastery.com/how-to-develop-convolutional-neural-network-models-for-time-series-forecasting/\n",
    "\n",
    "def split_window(series, window):\n",
    "    X, y = [], []\n",
    "    no_steps = len(series) - window\n",
    "    for step in range(no_steps):\n",
    "        X.append(series[step : step + window])\n",
    "        y.append(series[step + window])\n",
    "    X = np.array(X)\n",
    "    y = np.array(y)\n",
    "    return X, y"
   ]
  },
  {
   "cell_type": "code",
   "execution_count": 20,
   "metadata": {},
   "outputs": [
    {
     "name": "stdout",
     "output_type": "stream",
     "text": [
      "[[10 20 30]\n",
      " [20 30 40]\n",
      " [30 40 50]\n",
      " [40 50 60]\n",
      " [50 60 70]\n",
      " [60 70 80]] [40 50 60 70 80 90]\n"
     ]
    }
   ],
   "source": [
    "# test with small array\n",
    "series = np.array([10,20,30,40,50,60,70,80,90])\n",
    "a, b = split_window(series, 3)\n",
    "print(a,b)"
   ]
  },
  {
   "cell_type": "code",
   "execution_count": 21,
   "metadata": {},
   "outputs": [
    {
     "name": "stdout",
     "output_type": "stream",
     "text": [
      "[7.6 9.5 4.4 3.1 4.6 3.2 5.5 9.6 8.2 8.7] 1.5\n",
      "[9.5 4.4 3.1 4.6 3.2 5.5 9.6 8.2 8.7 1.5] 2.0\n",
      "[4.4 3.1 4.6 3.2 5.5 9.6 8.2 8.7 1.5 2. ] 9.200000000000273\n",
      "[3.1 4.6 3.2 5.5 9.6 8.2 8.7 1.5 2.  9.2] 9.299999999999727\n",
      "[4.6 3.2 5.5 9.6 8.2 8.7 1.5 2.  9.2 9.3] 1.800000000000182\n"
     ]
    }
   ],
   "source": [
    "# applying split_window on day_solar_power with window = 365\n",
    "window = 365\n",
    "train_day_power = train['day_solar_power'].values\n",
    "X, y = split_window(train_day_power, window)\n",
    "\n",
    "# check couple of samples\n",
    "for i in range(5):\n",
    "    print(X[i][-10:], y[i])\n"
   ]
  },
  {
   "cell_type": "code",
   "execution_count": null,
   "metadata": {},
   "outputs": [],
   "source": []
  },
  {
   "cell_type": "markdown",
   "metadata": {},
   "source": [
    "### Conv1D Model - Univariate input"
   ]
  },
  {
   "cell_type": "code",
   "execution_count": 22,
   "metadata": {},
   "outputs": [],
   "source": [
    "#https://machinelearningmastery.com/how-to-develop-convolutional-neural-network-models-for-time-series-forecasting/\n",
    "\n",
    "def my_conv1d_model(window, n_features = 1):\n",
    "    \n",
    "    model = tf.keras.Sequential()\n",
    "    model.add(tf.keras.layers.Conv1D(filters = 32, kernel_size = 3,\n",
    "                    activation = 'relu', \n",
    "                    input_shape = (window, n_features)))\n",
    "    model.add(tf.keras.layers.MaxPooling1D(pool_size = 2))\n",
    "    model.add(tf.keras.layers.Flatten())\n",
    "    model.add(tf.keras.layers.Dense(50, activation = 'relu'))\n",
    "    model.add(tf.keras.layers.Dense(1))\n",
    "    \n",
    "    model.compile(optimizer = 'adam', loss = 'mae')\n",
    "#     model.summary()\n",
    "    return model"
   ]
  },
  {
   "cell_type": "code",
   "execution_count": 23,
   "metadata": {},
   "outputs": [
    {
     "name": "stdout",
     "output_type": "stream",
     "text": [
      "Model: \"sequential\"\n",
      "_________________________________________________________________\n",
      "Layer (type)                 Output Shape              Param #   \n",
      "=================================================================\n",
      "conv1d (Conv1D)              (None, 363, 32)           128       \n",
      "_________________________________________________________________\n",
      "max_pooling1d (MaxPooling1D) (None, 181, 32)           0         \n",
      "_________________________________________________________________\n",
      "flatten (Flatten)            (None, 5792)              0         \n",
      "_________________________________________________________________\n",
      "dense (Dense)                (None, 50)                289650    \n",
      "_________________________________________________________________\n",
      "dense_1 (Dense)              (None, 1)                 51        \n",
      "=================================================================\n",
      "Total params: 289,829\n",
      "Trainable params: 289,829\n",
      "Non-trainable params: 0\n",
      "_________________________________________________________________\n"
     ]
    }
   ],
   "source": [
    "n_features = 1\n",
    "X = X.reshape((X.shape[0], X.shape[1], n_features))\n",
    "# call the model function\n",
    "model = my_conv1d_model(window, n_features)\n",
    "\n",
    "model.summary()"
   ]
  },
  {
   "cell_type": "code",
   "execution_count": null,
   "metadata": {},
   "outputs": [],
   "source": []
  },
  {
   "cell_type": "code",
   "execution_count": 24,
   "metadata": {},
   "outputs": [],
   "source": [
    "#fit the model\n",
    "\n",
    "history = model.fit(X, y, epochs = 500, verbose = 0)"
   ]
  },
  {
   "cell_type": "code",
   "execution_count": null,
   "metadata": {},
   "outputs": [],
   "source": []
  },
  {
   "cell_type": "code",
   "execution_count": 25,
   "metadata": {},
   "outputs": [
    {
     "data": {
      "text/plain": [
       "[<matplotlib.lines.Line2D at 0x7fdb40784b90>]"
      ]
     },
     "execution_count": 25,
     "metadata": {},
     "output_type": "execute_result"
    },
    {
     "data": {
      "image/png": "[encoded data removed]",
      "text/plain": [
       "<Figure size 432x288 with 1 Axes>"
      ]
     },
     "metadata": {
      "needs_background": "light"
     },
     "output_type": "display_data"
    }
   ],
   "source": [
    "#plot the loss function\n",
    "import matplotlib.pyplot as plt\n",
    "plt.plot(history.history['loss'])"
   ]
  },
  {
   "cell_type": "code",
   "execution_count": 26,
   "metadata": {},
   "outputs": [],
   "source": [
    "# forgot to normalize the column. \n",
    "# note to self.......normalize column and re-run again."
   ]
  },
  {
   "cell_type": "code",
   "execution_count": 33,
   "metadata": {},
   "outputs": [
    {
     "data": {
      "text/plain": [
       "Index(['ele_kw', 'gas_mxm', 'day_solar_power'], dtype='object')"
      ]
     },
     "execution_count": 33,
     "metadata": {},
     "output_type": "execute_result"
    }
   ],
   "source": [
    "train.columns"
   ]
  },
  {
   "cell_type": "code",
   "execution_count": 37,
   "metadata": {},
   "outputs": [],
   "source": [
    "# predicting next year based on model\n",
    "\n",
    "x_in = np.array(train.day_solar_power[-365:]) # last 365 days\n",
    "\n",
    "#reshape to (samples, window, features) format\n",
    "x_in = x_in.reshape((1, window, n_features))\n",
    "\n",
    "#predict and add to the x_in\n",
    "for i in range(365):\n",
    "    y_hat = model.predict(x_in, verbose = 0)\n",
    "    new_x = y_hat.reshape((1,1,1))\n",
    "    x_in = np.concatenate((x_in[: , -364:], new_x), axis =1)\n",
    "\n"
   ]
  },
  {
   "cell_type": "code",
   "execution_count": 38,
   "metadata": {},
   "outputs": [
    {
     "data": {
      "text/plain": [
       "(1, 365, 1)"
      ]
     },
     "execution_count": 38,
     "metadata": {},
     "output_type": "execute_result"
    }
   ],
   "source": [
    "x_in.shape"
   ]
  },
  {
   "cell_type": "code",
   "execution_count": 42,
   "metadata": {},
   "outputs": [
    {
     "data": {
      "image/png": "[encoded data removed]",
      "text/plain": [
       "<Figure size 432x288 with 1 Axes>"
      ]
     },
     "metadata": {
      "needs_background": "light"
     },
     "output_type": "display_data"
    }
   ],
   "source": [
    "y_pred = x_in.reshape((x_in.shape[1]))\n",
    "plt.plot(y_pred, label = 'predicted power')\n",
    "\n",
    "y_true = valid.day_solar_power.values\n",
    "plt.plot(y_true, label = 'true power')\n",
    "plt.legend()\n",
    "plt.show()"
   ]
  },
  {
   "cell_type": "code",
   "execution_count": 43,
   "metadata": {},
   "outputs": [
    {
     "name": "stdout",
     "output_type": "stream",
     "text": [
      "r2 score is  0.40630222973236196\n",
      "mae is  4.693220946070266\n"
     ]
    }
   ],
   "source": [
    "univar_r2 = r2_score(y_true, y_pred)\n",
    "univar_mae = mean_absolute_error(y_true, y_pred)\n",
    "print('r2 score is ', univar_r2)\n",
    "print('mae is ', univar_mae)"
   ]
  },
  {
   "cell_type": "code",
   "execution_count": null,
   "metadata": {},
   "outputs": [],
   "source": []
  },
  {
   "cell_type": "code",
   "execution_count": 46,
   "metadata": {},
   "outputs": [],
   "source": [
    "# What about cumulative power\n",
    "\n",
    "def cumulated(series, start=0):\n",
    "    cm = [start]\n",
    "    for i in range(len(series)):\n",
    "        add_last = cm[i] + series[i]\n",
    "        cm.append(add_last)\n",
    "    return cm\n",
    "\n"
   ]
  },
  {
   "cell_type": "code",
   "execution_count": 48,
   "metadata": {},
   "outputs": [
    {
     "name": "stdout",
     "output_type": "stream",
     "text": [
      "[0, 10, 30, 60, 100, 150, 210, 280, 360, 450]\n"
     ]
    }
   ],
   "source": [
    "temp = np.array([10,20,30,40,50,60,70,80,90])\n",
    "print(cumulated(temp))"
   ]
  },
  {
   "cell_type": "code",
   "execution_count": 49,
   "metadata": {},
   "outputs": [
    {
     "data": {
      "text/plain": [
       "[<matplotlib.lines.Line2D at 0x7fdb43a590d0>]"
      ]
     },
     "execution_count": 49,
     "metadata": {},
     "output_type": "execute_result"
    },
    {
     "data": {
      "image/png": "[encoded data removed]",
      "text/plain": [
       "<Figure size 432x288 with 1 Axes>"
      ]
     },
     "metadata": {
      "needs_background": "light"
     },
     "output_type": "display_data"
    }
   ],
   "source": [
    "y_true_cum = cumulated(y_true)\n",
    "y_pred_cum = cumulated(y_pred)\n",
    "\n",
    "plt.plot(y_pred_cum)\n",
    "plt.plot(y_true_cum)"
   ]
  },
  {
   "cell_type": "code",
   "execution_count": null,
   "metadata": {},
   "outputs": [],
   "source": [
    "# accuracey after one year\n",
    "\n"
   ]
  },
  {
   "cell_type": "markdown",
   "metadata": {},
   "source": [
    "### LSTM Model"
   ]
  },
  {
   "cell_type": "code",
   "execution_count": 27,
   "metadata": {},
   "outputs": [
    {
     "data": {
      "text/plain": [
       "((2947, 3), (2217, 365, 1), (2217,))"
      ]
     },
     "execution_count": 27,
     "metadata": {},
     "output_type": "execute_result"
    }
   ],
   "source": [
    "solarpower.shape,X.shape, y.shape"
   ]
  },
  {
   "cell_type": "code",
   "execution_count": null,
   "metadata": {},
   "outputs": [],
   "source": []
  },
  {
   "cell_type": "code",
   "execution_count": 28,
   "metadata": {},
   "outputs": [],
   "source": [
    "# create a model function\n",
    "\n",
    "def my_lstm_model(input_series):\n",
    "    model = tf.keras.Sequential([\n",
    "        tf.keras.layers.LSTM(8, input_shape = input_series.shape[-2:]),\n",
    "        tf.keras.layers.Dense(1)    \n",
    "        \n",
    "    ])\n",
    "    model.compile(optimizer = 'adam', loss = 'mae')\n",
    "    \n",
    "    return model\n"
   ]
  },
  {
   "cell_type": "code",
   "execution_count": null,
   "metadata": {},
   "outputs": [],
   "source": []
  },
  {
   "cell_type": "code",
   "execution_count": 50,
   "metadata": {},
   "outputs": [],
   "source": [
    "# model = my_lstm_model()"
   ]
  },
  {
   "cell_type": "code",
   "execution_count": null,
   "metadata": {},
   "outputs": [],
   "source": []
  },
  {
   "cell_type": "code",
   "execution_count": null,
   "metadata": {},
   "outputs": [],
   "source": []
  },
  {
   "cell_type": "code",
   "execution_count": null,
   "metadata": {},
   "outputs": [],
   "source": []
  },
  {
   "cell_type": "code",
   "execution_count": null,
   "metadata": {},
   "outputs": [],
   "source": []
  }
 ],
 "metadata": {
  "kernelspec": {
   "display_name": "Python 3",
   "language": "python",
   "name": "python3"
  },
  "language_info": {
   "codemirror_mode": {
    "name": "ipython",
    "version": 3
   },
   "file_extension": ".py",
   "mimetype": "text/x-python",
   "name": "python",
   "nbconvert_exporter": "python",
   "pygments_lexer": "ipython3",
   "version": "3.7.6"
  }
 },
 "nbformat": 4,
 "nbformat_minor": 4
}
